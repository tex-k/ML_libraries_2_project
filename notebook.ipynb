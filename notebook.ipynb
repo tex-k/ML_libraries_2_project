{
 "cells": [
  {
   "cell_type": "code",
   "execution_count": 1,
   "id": "1ed3eb85",
   "metadata": {},
   "outputs": [],
   "source": [
    "import pandas as pd\n",
    "import numpy as np\n",
    "import matplotlib.pyplot as mlt\n",
    "import seaborn\n",
    "import sklearn.model_selection\n",
    "import sklearn.metrics\n",
    "import sklearn.tree\n",
    "import sklearn.ensemble\n",
    "from imblearn.under_sampling import TomekLinks\n",
    "import xgboost as xgb\n",
    "import catboost as catb"
   ]
  },
  {
   "cell_type": "code",
   "execution_count": 2,
   "id": "6f41c2f3",
   "metadata": {},
   "outputs": [],
   "source": [
    "def fillna(X, columns, data):\n",
    "    \"\"\"Заполняет наны\"\"\"\n",
    "    \n",
    "    for feature in columns:\n",
    "        X.loc[X[feature].isna(), feature] = data[feature]\n",
    "        \n",
    "    return X"
   ]
  },
  {
   "cell_type": "code",
   "execution_count": 3,
   "id": "28fdcaa2",
   "metadata": {},
   "outputs": [],
   "source": [
    "def dummies(X, feature):\n",
    "    \n",
    "    X = pd.concat([X, pd.get_dummies(X[feature], prefix=feature)], axis=1)\n",
    "    X = X.drop(labels=[feature], axis=1)\n",
    "    \n",
    "    return X"
   ]
  },
  {
   "cell_type": "code",
   "execution_count": 4,
   "id": "8317bcd6",
   "metadata": {},
   "outputs": [],
   "source": [
    "def replace(X, feature, data):\n",
    "    \n",
    "    X[feature] = X[feature].replace(data)\n",
    "    \n",
    "    return X"
   ]
  },
  {
   "cell_type": "code",
   "execution_count": 5,
   "id": "b43ec949",
   "metadata": {},
   "outputs": [],
   "source": [
    "def preproc(X):\n",
    "    \n",
    "    feature_cat = [\n",
    "        \"Home Ownership\", \n",
    "        \"Years in current job\", \n",
    "        \"Tax Liens\", \n",
    "        \"Number of Open Accounts\", \n",
    "        \"Number of Credit Problems\",\n",
    "        \"Bankruptcies\",\n",
    "        \"Purpose\",\n",
    "        \"Term\"    \n",
    "    ]\n",
    "    \n",
    "    feature_float = list(X.columns)\n",
    "    \n",
    "    for feature in feature_cat:\n",
    "        feature_float.remove(feature)\n",
    "        \n",
    "    return {\n",
    "        \"feature_cat\": feature_cat, \n",
    "        \"feature_float\": feature_float,\n",
    "        \"replace_years_in_current_job\": {\n",
    "            \"< 1 year\": 0,\n",
    "            \"1 year\": 1,\n",
    "            \"2 years\": 2,\n",
    "            \"3 years\": 3,\n",
    "            \"4 years\": 4,\n",
    "            \"5 years\": 5,\n",
    "            \"6 years\": 6,\n",
    "            \"7 years\": 7,\n",
    "            \"8 years\": 8,\n",
    "            \"9 years\": 9,\n",
    "            \"10 years\": 10,\n",
    "            \"10+ years\": 11\n",
    "        },\n",
    "        \"replace_term\" : {\n",
    "            \"Short Term\": 0,\n",
    "            \"Long Term\": 1\n",
    "        }\n",
    "    }"
   ]
  },
  {
   "cell_type": "code",
   "execution_count": 6,
   "id": "1af14e42",
   "metadata": {},
   "outputs": [],
   "source": [
    "def get_medians(X, columns):\n",
    "    \n",
    "    medians = {}\n",
    "    features = preproc(X)\n",
    "    \n",
    "    for feature in features[\"feature_float\"]:\n",
    "        medians[feature] = X[feature].median()\n",
    "        \n",
    "    return medians"
   ]
  },
  {
   "cell_type": "code",
   "execution_count": 7,
   "id": "6c0a5111",
   "metadata": {},
   "outputs": [],
   "source": [
    "def get_modes(X, columns):\n",
    "    \n",
    "    modes = {}\n",
    "    features = preproc(X)\n",
    "    \n",
    "    for feature in features[\"feature_cat\"]:\n",
    "        modes[feature] = X[feature].mode().values[0]\n",
    "        \n",
    "    return modes"
   ]
  },
  {
   "cell_type": "code",
   "execution_count": 8,
   "id": "063d55e9",
   "metadata": {},
   "outputs": [],
   "source": [
    "def fit(X):   \n",
    "    \n",
    "    features = preproc(X)\n",
    "    \n",
    "    return {\n",
    "        \"medians\": get_medians(X, features[\"feature_float\"]),\n",
    "        \"modes\": get_modes(X, features[\"feature_cat\"])\n",
    "    }"
   ]
  },
  {
   "cell_type": "code",
   "execution_count": 9,
   "id": "3a80e29e",
   "metadata": {},
   "outputs": [],
   "source": [
    "def transform(X, params):\n",
    "    \n",
    "    features = preproc(X)\n",
    "    \n",
    "    X = fillna(X, features[\"feature_float\"], params[\"medians\"])\n",
    "    X = fillna(X, features[\"feature_cat\"], params[\"modes\"])\n",
    "    \n",
    "    X = dummies(X, \"Home Ownership\")\n",
    "    X = dummies(X, \"Purpose\")\n",
    "    \n",
    "    X = replace(X, \"Years in current job\", features[\"replace_years_in_current_job\"])\n",
    "    X = replace(X, \"Term\", features[\"replace_term\"])\n",
    "    \n",
    "    return X"
   ]
  },
  {
   "cell_type": "markdown",
   "id": "e6a2d76d",
   "metadata": {},
   "source": [
    "### Считывание данных"
   ]
  },
  {
   "cell_type": "code",
   "execution_count": 10,
   "id": "f2057710",
   "metadata": {},
   "outputs": [],
   "source": [
    "df = pd.read_csv(\"train.csv\")"
   ]
  },
  {
   "cell_type": "code",
   "execution_count": 11,
   "id": "8a222cb3",
   "metadata": {},
   "outputs": [],
   "source": [
    "X = df.drop(labels=[\"Credit Default\"], axis=1)\n",
    "y = df[\"Credit Default\"]"
   ]
  },
  {
   "cell_type": "code",
   "execution_count": 12,
   "id": "2fba5465",
   "metadata": {},
   "outputs": [],
   "source": [
    "X_train, X_test, y_train, y_test = sklearn.model_selection.train_test_split(X, y, test_size=0.3, stratify=y, random_state=50)"
   ]
  },
  {
   "cell_type": "markdown",
   "id": "2922bd3c",
   "metadata": {},
   "source": [
    "### Преобразование"
   ]
  },
  {
   "cell_type": "code",
   "execution_count": 13,
   "id": "6c8a4602",
   "metadata": {},
   "outputs": [],
   "source": [
    "params = fit(X_train)\n",
    "X_train = transform(X_train, params)\n",
    "X_test = transform(X_test, params)\n",
    "X_test.insert(22, \"Purpose_educational expenses\", 0)\n",
    "X_test.insert(28, \"Purpose_renewable energy\", 0)"
   ]
  },
  {
   "cell_type": "markdown",
   "id": "cc41a481",
   "metadata": {},
   "source": [
    "### Балансировка через overflow"
   ]
  },
  {
   "cell_type": "code",
   "execution_count": 14,
   "id": "52dbbe00",
   "metadata": {},
   "outputs": [],
   "source": [
    "df_balance_train = pd.concat([X_train, y_train], axis=1)\n",
    "sample_train = df_balance_train[df_balance_train[\"Credit Default\"] == 1].sample(df_balance_train[\"Credit Default\"].value_counts()[1], random_state=50)\n",
    "df_balance_train = df_balance_train.append(sample_train, ignore_index=True)\n",
    "X_train = df_balance_train.drop(labels=[\"Credit Default\"], axis=1)\n",
    "y_train = df_balance_train[\"Credit Default\"]"
   ]
  },
  {
   "cell_type": "markdown",
   "id": "5dab4304",
   "metadata": {},
   "source": [
    "### Вычисление"
   ]
  },
  {
   "cell_type": "code",
   "execution_count": 15,
   "id": "2dc8a38e",
   "metadata": {},
   "outputs": [
    {
     "name": "stdout",
     "output_type": "stream",
     "text": [
      "              precision    recall  f1-score   support\n",
      "\n",
      "           0       0.76      0.77      0.76      3771\n",
      "           1       0.70      0.68      0.69      2958\n",
      "\n",
      "    accuracy                           0.73      6729\n",
      "   macro avg       0.73      0.73      0.73      6729\n",
      "weighted avg       0.73      0.73      0.73      6729\n",
      "\n",
      "              precision    recall  f1-score   support\n",
      "\n",
      "           0       0.84      0.74      0.78      1616\n",
      "           1       0.49      0.64      0.55       634\n",
      "\n",
      "    accuracy                           0.71      2250\n",
      "   macro avg       0.66      0.69      0.67      2250\n",
      "weighted avg       0.74      0.71      0.72      2250\n",
      "\n"
     ]
    }
   ],
   "source": [
    "model = catb.CatBoostClassifier(reg_lambda=0.5, silent=True, early_stopping_rounds=20, eval_metric='F1', class_weights=[1, y_train.value_counts()[0] / y_train.value_counts()[1]], iterations=300, max_depth=3, random_state=50)\n",
    "model.fit(X_train, y_train)\n",
    "y_pred_train = model.predict(X_train)\n",
    "y_pred_test = model.predict(X_test)\n",
    "print(sklearn.metrics.classification_report(y_train, y_pred_train))\n",
    "print(sklearn.metrics.classification_report(y_test, y_pred_test))"
   ]
  },
  {
   "cell_type": "code",
   "execution_count": 16,
   "id": "23abdb2d",
   "metadata": {},
   "outputs": [],
   "source": [
    "test = pd.read_csv(\"test.csv\")"
   ]
  },
  {
   "cell_type": "code",
   "execution_count": 17,
   "id": "4245c234",
   "metadata": {},
   "outputs": [],
   "source": [
    "test = transform(test, params)"
   ]
  },
  {
   "cell_type": "code",
   "execution_count": 18,
   "id": "a8e3c7f7",
   "metadata": {},
   "outputs": [],
   "source": [
    "test.insert(28, \"Purpose_renewable energy\", 0)"
   ]
  },
  {
   "cell_type": "code",
   "execution_count": 19,
   "id": "9731a708",
   "metadata": {},
   "outputs": [],
   "source": [
    "model = catb.CatBoostClassifier(reg_lambda=0.5, silent=True, early_stopping_rounds=20, eval_metric='F1', class_weights=[1, y_train.value_counts()[0] / y_train.value_counts()[1]], iterations=300, max_depth=3, random_state=50)\n",
    "model.fit(X_train, y_train)\n",
    "result = model.predict(test)"
   ]
  },
  {
   "cell_type": "code",
   "execution_count": 20,
   "id": "aacc9c3c",
   "metadata": {},
   "outputs": [],
   "source": [
    "sample = pd.read_csv(\"sample_submission.csv\")"
   ]
  },
  {
   "cell_type": "code",
   "execution_count": 21,
   "id": "bb3a99a3",
   "metadata": {},
   "outputs": [],
   "source": [
    "sample[\"Credit Default\"] = result"
   ]
  },
  {
   "cell_type": "code",
   "execution_count": 22,
   "id": "12995626",
   "metadata": {},
   "outputs": [],
   "source": [
    "sample.to_csv(\"results.csv\", index=False)"
   ]
  },
  {
   "cell_type": "code",
   "execution_count": null,
   "id": "089e97c8",
   "metadata": {},
   "outputs": [],
   "source": []
  }
 ],
 "metadata": {
  "kernelspec": {
   "display_name": "Python 3 (ipykernel)",
   "language": "python",
   "name": "python3"
  },
  "language_info": {
   "codemirror_mode": {
    "name": "ipython",
    "version": 3
   },
   "file_extension": ".py",
   "mimetype": "text/x-python",
   "name": "python",
   "nbconvert_exporter": "python",
   "pygments_lexer": "ipython3",
   "version": "3.9.9"
  }
 },
 "nbformat": 4,
 "nbformat_minor": 5
}
